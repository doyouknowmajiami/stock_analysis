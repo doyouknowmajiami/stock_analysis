{
 "cells": [
  {
   "cell_type": "code",
   "execution_count": 15,
   "id": "22322372",
   "metadata": {},
   "outputs": [],
   "source": [
    "from Stock_LineBot import *\n",
    "from flask import Flask, request, abort"
   ]
  },
  {
   "cell_type": "code",
   "execution_count": 17,
   "id": "976ac172",
   "metadata": {
    "scrolled": false
   },
   "outputs": [
    {
     "name": "stdout",
     "output_type": "stream",
     "text": [
      " * Serving Flask app '__main__' (lazy loading)\n",
      " * Environment: production\n",
      "\u001b[31m   WARNING: This is a development server. Do not use it in a production deployment.\u001b[0m\n",
      "\u001b[2m   Use a production WSGI server instead.\u001b[0m\n",
      " * Debug mode: off\n"
     ]
    },
    {
     "name": "stderr",
     "output_type": "stream",
     "text": [
      " * Running on http://127.0.0.1:3000 (Press CTRL+C to quit)\n",
      "127.0.0.1 - - [25/May/2022 09:55:43] \"GET / HTTP/1.1\" 200 -\n",
      "127.0.0.1 - - [25/May/2022 09:56:48] \"POST / HTTP/1.1\" 200 -\n"
     ]
    },
    {
     "name": "stdout",
     "output_type": "stream",
     "text": [
      "{\"destination\":\"U878fd853d012149602132f0bbff36330\",\"events\":[{\"type\":\"unfollow\",\"webhookEventId\":\"01G3WEWKCR2MKQW956X1G168MP\",\"deliveryContext\":{\"isRedelivery\":false},\"timestamp\":1653443808630,\"source\":{\"type\":\"user\",\"userId\":\"U0369730329f4006bcf211fb0dc39fc6c\"},\"mode\":\"active\"}]} 9MuVWs18PN82tb8NH96rNCVH8W3kxml+/LZ3DDaUAFI=\n",
      "{\"destination\":\"U878fd853d012149602132f0bbff36330\",\"events\":[{\"type\":\"message\",\"message\":{\"type\":\"text\",\"id\":\"16144994199492\",\"text\":\"請告訴我使用規則\"},\"webhookEventId\":\"01G3WEYBWJ8ZAYNHSS5SN1GXBJ\",\"deliveryContext\":{\"isRedelivery\":false},\"timestamp\":1653443866015,\"source\":{\"type\":\"user\",\"userId\":\"Uabbf74146ad98cf5f23a8bd3179cd8f6\"},\"replyToken\":\"aa8213e4ceae4e10b13ef920d846733a\",\"mode\":\"active\"}]} KanKm26hFJmwMKv/uRdz2D05Q6FC7NDbeg3h2LU5AAk=\n"
     ]
    },
    {
     "name": "stderr",
     "output_type": "stream",
     "text": [
      "127.0.0.1 - - [25/May/2022 09:57:47] \"POST / HTTP/1.1\" 200 -\n"
     ]
    },
    {
     "name": "stdout",
     "output_type": "stream",
     "text": [
      "{'id': ['Uabbf74146ad98cf5f23a8bd3179cd8f6', 'U0369730329f4006bcf211fb0dc39fc6c'], 'Uabbf74146ad98cf5f23a8bd3179cd8f6': {'time_record': [datetime.datetime(2022, 5, 24, 15, 51, 5, 139524), datetime.datetime(2022, 5, 24, 15, 51, 6, 268375), datetime.datetime(2022, 5, 24, 15, 51, 6, 602050), datetime.datetime(2022, 5, 24, 15, 51, 6, 696863), datetime.datetime(2022, 5, 24, 15, 51, 7, 41825), datetime.datetime(2022, 5, 24, 15, 51, 8, 871993), datetime.datetime(2022, 5, 24, 15, 51, 19, 345449), datetime.datetime(2022, 5, 24, 15, 51, 19, 604617), datetime.datetime(2022, 5, 24, 15, 51, 20, 208757), datetime.datetime(2022, 5, 24, 15, 51, 20, 317192), datetime.datetime(2022, 5, 24, 15, 51, 20, 427048), datetime.datetime(2022, 5, 24, 15, 51, 22, 244472), datetime.datetime(2022, 5, 24, 15, 52, 9, 156094), datetime.datetime(2022, 5, 24, 15, 52, 9, 565050), datetime.datetime(2022, 5, 24, 15, 52, 9, 668971), datetime.datetime(2022, 5, 24, 15, 52, 9, 796155), datetime.datetime(2022, 5, 24, 15, 52, 10, 194083), datetime.datetime(2022, 5, 24, 15, 53, 22, 366705), datetime.datetime(2022, 5, 24, 15, 53, 23, 30986), datetime.datetime(2022, 5, 24, 15, 53, 23, 161456), datetime.datetime(2022, 5, 24, 16, 11, 23, 429342), datetime.datetime(2022, 5, 24, 16, 11, 56, 594475), datetime.datetime(2022, 5, 24, 16, 12, 3, 966567), datetime.datetime(2022, 5, 24, 16, 12, 42, 335394), datetime.datetime(2022, 5, 24, 21, 28, 55, 86455), datetime.datetime(2022, 5, 24, 21, 29, 3, 356195), datetime.datetime(2022, 5, 24, 21, 29, 16, 631217), datetime.datetime(2022, 5, 24, 21, 29, 22, 176572), datetime.datetime(2022, 5, 24, 21, 29, 29, 783523), datetime.datetime(2022, 5, 24, 21, 29, 45, 633206), datetime.datetime(2022, 5, 24, 21, 30, 0, 197289), datetime.datetime(2022, 5, 24, 21, 30, 21, 807843), datetime.datetime(2022, 5, 25, 9, 57, 46, 885257)], 'user_text_stock': ['2330'], 'user_text_strategy': ['SMA'], 'user_text_email': 'Abc@example.com', 'Mode': ''}, 'U0369730329f4006bcf211fb0dc39fc6c': {'time_record': [datetime.datetime(2022, 5, 24, 15, 55, 38, 838310), datetime.datetime(2022, 5, 24, 15, 55, 43, 73055), datetime.datetime(2022, 5, 24, 15, 55, 46, 657865), datetime.datetime(2022, 5, 24, 15, 55, 48, 918285), datetime.datetime(2022, 5, 24, 15, 55, 51, 815119), datetime.datetime(2022, 5, 24, 15, 55, 55, 53365), datetime.datetime(2022, 5, 24, 15, 56, 11, 356804), datetime.datetime(2022, 5, 24, 15, 56, 17, 174475), datetime.datetime(2022, 5, 24, 15, 56, 26, 594868), datetime.datetime(2022, 5, 24, 15, 56, 35, 194218)], 'user_text_stock': ['2330'], 'user_text_strategy': 0, 'user_text_email': 0, 'Mode': ''}}\n"
     ]
    },
    {
     "name": "stderr",
     "output_type": "stream",
     "text": [
      "127.0.0.1 - - [25/May/2022 09:58:17] \"POST / HTTP/1.1\" 200 -\n"
     ]
    },
    {
     "name": "stdout",
     "output_type": "stream",
     "text": [
      "{\"destination\":\"U878fd853d012149602132f0bbff36330\",\"events\":[{\"type\":\"follow\",\"webhookEventId\":\"01G3WEZA4AF3TBC860BZ1Q4XY8\",\"deliveryContext\":{\"isRedelivery\":false},\"timestamp\":1653443897256,\"source\":{\"type\":\"user\",\"userId\":\"U0369730329f4006bcf211fb0dc39fc6c\"},\"replyToken\":\"1b3344859b924cadbbf2d1682ca9b024\",\"mode\":\"active\"}]} PNRDaOhOstp/8BQndptqlV27aQPlq6t22+V0tu+6C9w=\n",
      "{\"destination\":\"U878fd853d012149602132f0bbff36330\",\"events\":[{\"type\":\"message\",\"message\":{\"type\":\"text\",\"id\":\"16144997921864\",\"text\":\"查詢股票代碼\"},\"webhookEventId\":\"01G3WEZZ2D8TWC24VB080XEN2E\",\"deliveryContext\":{\"isRedelivery\":false},\"timestamp\":1653443918597,\"source\":{\"type\":\"user\",\"userId\":\"U0369730329f4006bcf211fb0dc39fc6c\"},\"replyToken\":\"e646d1acc6384a56a36b197219d7561e\",\"mode\":\"active\"}]} slMusbIvRDJW04EGKJurO3GFPSoE1dcNwV6DdiJqQfw=\n"
     ]
    },
    {
     "name": "stderr",
     "output_type": "stream",
     "text": [
      "127.0.0.1 - - [25/May/2022 09:58:39] \"POST / HTTP/1.1\" 200 -\n"
     ]
    },
    {
     "name": "stdout",
     "output_type": "stream",
     "text": [
      "{'id': ['Uabbf74146ad98cf5f23a8bd3179cd8f6', 'U0369730329f4006bcf211fb0dc39fc6c'], 'Uabbf74146ad98cf5f23a8bd3179cd8f6': {'time_record': [datetime.datetime(2022, 5, 24, 15, 51, 5, 139524), datetime.datetime(2022, 5, 24, 15, 51, 6, 268375), datetime.datetime(2022, 5, 24, 15, 51, 6, 602050), datetime.datetime(2022, 5, 24, 15, 51, 6, 696863), datetime.datetime(2022, 5, 24, 15, 51, 7, 41825), datetime.datetime(2022, 5, 24, 15, 51, 8, 871993), datetime.datetime(2022, 5, 24, 15, 51, 19, 345449), datetime.datetime(2022, 5, 24, 15, 51, 19, 604617), datetime.datetime(2022, 5, 24, 15, 51, 20, 208757), datetime.datetime(2022, 5, 24, 15, 51, 20, 317192), datetime.datetime(2022, 5, 24, 15, 51, 20, 427048), datetime.datetime(2022, 5, 24, 15, 51, 22, 244472), datetime.datetime(2022, 5, 24, 15, 52, 9, 156094), datetime.datetime(2022, 5, 24, 15, 52, 9, 565050), datetime.datetime(2022, 5, 24, 15, 52, 9, 668971), datetime.datetime(2022, 5, 24, 15, 52, 9, 796155), datetime.datetime(2022, 5, 24, 15, 52, 10, 194083), datetime.datetime(2022, 5, 24, 15, 53, 22, 366705), datetime.datetime(2022, 5, 24, 15, 53, 23, 30986), datetime.datetime(2022, 5, 24, 15, 53, 23, 161456), datetime.datetime(2022, 5, 24, 16, 11, 23, 429342), datetime.datetime(2022, 5, 24, 16, 11, 56, 594475), datetime.datetime(2022, 5, 24, 16, 12, 3, 966567), datetime.datetime(2022, 5, 24, 16, 12, 42, 335394), datetime.datetime(2022, 5, 24, 21, 28, 55, 86455), datetime.datetime(2022, 5, 24, 21, 29, 3, 356195), datetime.datetime(2022, 5, 24, 21, 29, 16, 631217), datetime.datetime(2022, 5, 24, 21, 29, 22, 176572), datetime.datetime(2022, 5, 24, 21, 29, 29, 783523), datetime.datetime(2022, 5, 24, 21, 29, 45, 633206), datetime.datetime(2022, 5, 24, 21, 30, 0, 197289), datetime.datetime(2022, 5, 24, 21, 30, 21, 807843), datetime.datetime(2022, 5, 25, 9, 57, 46, 885257)], 'user_text_stock': ['2330'], 'user_text_strategy': ['SMA'], 'user_text_email': 'Abc@example.com', 'Mode': ''}, 'U0369730329f4006bcf211fb0dc39fc6c': {'time_record': [datetime.datetime(2022, 5, 24, 15, 55, 38, 838310), datetime.datetime(2022, 5, 24, 15, 55, 43, 73055), datetime.datetime(2022, 5, 24, 15, 55, 46, 657865), datetime.datetime(2022, 5, 24, 15, 55, 48, 918285), datetime.datetime(2022, 5, 24, 15, 55, 51, 815119), datetime.datetime(2022, 5, 24, 15, 55, 55, 53365), datetime.datetime(2022, 5, 24, 15, 56, 11, 356804), datetime.datetime(2022, 5, 24, 15, 56, 17, 174475), datetime.datetime(2022, 5, 24, 15, 56, 26, 594868), datetime.datetime(2022, 5, 24, 15, 56, 35, 194218), datetime.datetime(2022, 5, 25, 9, 58, 39, 119420)], 'user_text_stock': ['2330'], 'user_text_strategy': 0, 'user_text_email': 0, 'Mode': 'stock'}}\n"
     ]
    },
    {
     "name": "stderr",
     "output_type": "stream",
     "text": [
      "127.0.0.1 - - [25/May/2022 10:00:24] \"POST / HTTP/1.1\" 200 -\n"
     ]
    },
    {
     "name": "stdout",
     "output_type": "stream",
     "text": [
      "{\"destination\":\"U878fd853d012149602132f0bbff36330\",\"events\":[{\"type\":\"unfollow\",\"webhookEventId\":\"01G3WF36EZZ7HH406V7B7X5D3G\",\"deliveryContext\":{\"isRedelivery\":false},\"timestamp\":1653444024301,\"source\":{\"type\":\"user\",\"userId\":\"U0369730329f4006bcf211fb0dc39fc6c\"},\"mode\":\"active\"}]} JckNuKMuCuMGDp2eZRJWXe/esG++kTZROkY1dS79hEc=\n"
     ]
    },
    {
     "name": "stderr",
     "output_type": "stream",
     "text": [
      "127.0.0.1 - - [25/May/2022 10:00:53] \"POST / HTTP/1.1\" 200 -\n"
     ]
    },
    {
     "name": "stdout",
     "output_type": "stream",
     "text": [
      "{\"destination\":\"U878fd853d012149602132f0bbff36330\",\"events\":[{\"type\":\"follow\",\"webhookEventId\":\"01G3WF42S2AZ5QXSMKKKB6D2TF\",\"deliveryContext\":{\"isRedelivery\":false},\"timestamp\":1653444053722,\"source\":{\"type\":\"user\",\"userId\":\"U0369730329f4006bcf211fb0dc39fc6c\"},\"replyToken\":\"9ad608ac0366475595249a775d5527e0\",\"mode\":\"active\"}]} cZST89C+pYk/vjHcmxp4wLunoU4aYPly2O/cd65nmV0=\n"
     ]
    },
    {
     "name": "stderr",
     "output_type": "stream",
     "text": [
      "127.0.0.1 - - [25/May/2022 10:01:07] \"POST / HTTP/1.1\" 200 -\n"
     ]
    },
    {
     "name": "stdout",
     "output_type": "stream",
     "text": [
      "{\"destination\":\"U878fd853d012149602132f0bbff36330\",\"events\":[{\"type\":\"unfollow\",\"webhookEventId\":\"01G3WF4G8TX6ZG5D87H09487SY\",\"deliveryContext\":{\"isRedelivery\":false},\"timestamp\":1653444067571,\"source\":{\"type\":\"user\",\"userId\":\"U0369730329f4006bcf211fb0dc39fc6c\"},\"mode\":\"active\"}]} 2hHRQKVGqbzjasA2nsctZDXEloe//I3yRoVUce7ic4A=\n"
     ]
    },
    {
     "name": "stderr",
     "output_type": "stream",
     "text": [
      "127.0.0.1 - - [25/May/2022 10:02:03] \"POST / HTTP/1.1\" 200 -\n"
     ]
    },
    {
     "name": "stdout",
     "output_type": "stream",
     "text": [
      "{\"destination\":\"U878fd853d012149602132f0bbff36330\",\"events\":[{\"type\":\"follow\",\"webhookEventId\":\"01G3WF66WXKV9TRWC6GYY4B8XT\",\"deliveryContext\":{\"isRedelivery\":false},\"timestamp\":1653444123353,\"source\":{\"type\":\"user\",\"userId\":\"U0369730329f4006bcf211fb0dc39fc6c\"},\"replyToken\":\"fdd4725389604bd5bb822bf0710e9bc0\",\"mode\":\"active\"}]} 60Nx5Y76yqn3CD0y6njBawSAOvBCR/7z/KrEZSZX6fU=\n",
      "{\"destination\":\"U878fd853d012149602132f0bbff36330\",\"events\":[{\"type\":\"message\",\"message\":{\"type\":\"text\",\"id\":\"16145014622999\",\"text\":\"查詢股票代碼\"},\"webhookEventId\":\"01G3WF6SGP6XYJXHXNEBR981DV\",\"deliveryContext\":{\"isRedelivery\":false},\"timestamp\":1653444142546,\"source\":{\"type\":\"user\",\"userId\":\"U0369730329f4006bcf211fb0dc39fc6c\"},\"replyToken\":\"1b6c175a41db427a996550e40127cc9b\",\"mode\":\"active\"}]} ljJiQOHAbr3kXLvB3+mwtKFf+14SJ+eRC9vf3AbTj2o=\n"
     ]
    },
    {
     "name": "stderr",
     "output_type": "stream",
     "text": [
      "127.0.0.1 - - [25/May/2022 10:02:23] \"POST / HTTP/1.1\" 200 -\n"
     ]
    },
    {
     "name": "stdout",
     "output_type": "stream",
     "text": [
      "{'id': ['Uabbf74146ad98cf5f23a8bd3179cd8f6', 'U0369730329f4006bcf211fb0dc39fc6c'], 'Uabbf74146ad98cf5f23a8bd3179cd8f6': {'time_record': [datetime.datetime(2022, 5, 24, 15, 51, 5, 139524), datetime.datetime(2022, 5, 24, 15, 51, 6, 268375), datetime.datetime(2022, 5, 24, 15, 51, 6, 602050), datetime.datetime(2022, 5, 24, 15, 51, 6, 696863), datetime.datetime(2022, 5, 24, 15, 51, 7, 41825), datetime.datetime(2022, 5, 24, 15, 51, 8, 871993), datetime.datetime(2022, 5, 24, 15, 51, 19, 345449), datetime.datetime(2022, 5, 24, 15, 51, 19, 604617), datetime.datetime(2022, 5, 24, 15, 51, 20, 208757), datetime.datetime(2022, 5, 24, 15, 51, 20, 317192), datetime.datetime(2022, 5, 24, 15, 51, 20, 427048), datetime.datetime(2022, 5, 24, 15, 51, 22, 244472), datetime.datetime(2022, 5, 24, 15, 52, 9, 156094), datetime.datetime(2022, 5, 24, 15, 52, 9, 565050), datetime.datetime(2022, 5, 24, 15, 52, 9, 668971), datetime.datetime(2022, 5, 24, 15, 52, 9, 796155), datetime.datetime(2022, 5, 24, 15, 52, 10, 194083), datetime.datetime(2022, 5, 24, 15, 53, 22, 366705), datetime.datetime(2022, 5, 24, 15, 53, 23, 30986), datetime.datetime(2022, 5, 24, 15, 53, 23, 161456), datetime.datetime(2022, 5, 24, 16, 11, 23, 429342), datetime.datetime(2022, 5, 24, 16, 11, 56, 594475), datetime.datetime(2022, 5, 24, 16, 12, 3, 966567), datetime.datetime(2022, 5, 24, 16, 12, 42, 335394), datetime.datetime(2022, 5, 24, 21, 28, 55, 86455), datetime.datetime(2022, 5, 24, 21, 29, 3, 356195), datetime.datetime(2022, 5, 24, 21, 29, 16, 631217), datetime.datetime(2022, 5, 24, 21, 29, 22, 176572), datetime.datetime(2022, 5, 24, 21, 29, 29, 783523), datetime.datetime(2022, 5, 24, 21, 29, 45, 633206), datetime.datetime(2022, 5, 24, 21, 30, 0, 197289), datetime.datetime(2022, 5, 24, 21, 30, 21, 807843), datetime.datetime(2022, 5, 25, 9, 57, 46, 885257)], 'user_text_stock': ['2330'], 'user_text_strategy': ['SMA'], 'user_text_email': 'Abc@example.com', 'Mode': ''}, 'U0369730329f4006bcf211fb0dc39fc6c': {'time_record': [datetime.datetime(2022, 5, 24, 15, 55, 38, 838310), datetime.datetime(2022, 5, 24, 15, 55, 43, 73055), datetime.datetime(2022, 5, 24, 15, 55, 46, 657865), datetime.datetime(2022, 5, 24, 15, 55, 48, 918285), datetime.datetime(2022, 5, 24, 15, 55, 51, 815119), datetime.datetime(2022, 5, 24, 15, 55, 55, 53365), datetime.datetime(2022, 5, 24, 15, 56, 11, 356804), datetime.datetime(2022, 5, 24, 15, 56, 17, 174475), datetime.datetime(2022, 5, 24, 15, 56, 26, 594868), datetime.datetime(2022, 5, 24, 15, 56, 35, 194218), datetime.datetime(2022, 5, 25, 9, 58, 39, 119420), datetime.datetime(2022, 5, 25, 10, 2, 22, 777733)], 'user_text_stock': ['2330'], 'user_text_strategy': 0, 'user_text_email': 0, 'Mode': 'stock'}}\n",
      "{\"destination\":\"U878fd853d012149602132f0bbff36330\",\"events\":[{\"type\":\"message\",\"message\":{\"type\":\"text\",\"id\":\"16145015300416\",\"text\":\"2330\"},\"webhookEventId\":\"01G3WF72V2HFHE80SFVM5VC76Y\",\"deliveryContext\":{\"isRedelivery\":false},\"timestamp\":1653444151742,\"source\":{\"type\":\"user\",\"userId\":\"U0369730329f4006bcf211fb0dc39fc6c\"},\"replyToken\":\"0379ddc2e35f4e00b639566269bb0610\",\"mode\":\"active\"}]} Q+GigHzt1BSBcfm1Vt6JTYHgfHotiGUMO1fB9x//2Zg=\n"
     ]
    },
    {
     "name": "stderr",
     "output_type": "stream",
     "text": [
      "127.0.0.1 - - [25/May/2022 10:02:32] \"POST / HTTP/1.1\" 200 -\n"
     ]
    },
    {
     "name": "stdout",
     "output_type": "stream",
     "text": [
      "{'id': ['Uabbf74146ad98cf5f23a8bd3179cd8f6', 'U0369730329f4006bcf211fb0dc39fc6c'], 'Uabbf74146ad98cf5f23a8bd3179cd8f6': {'time_record': [datetime.datetime(2022, 5, 24, 15, 51, 5, 139524), datetime.datetime(2022, 5, 24, 15, 51, 6, 268375), datetime.datetime(2022, 5, 24, 15, 51, 6, 602050), datetime.datetime(2022, 5, 24, 15, 51, 6, 696863), datetime.datetime(2022, 5, 24, 15, 51, 7, 41825), datetime.datetime(2022, 5, 24, 15, 51, 8, 871993), datetime.datetime(2022, 5, 24, 15, 51, 19, 345449), datetime.datetime(2022, 5, 24, 15, 51, 19, 604617), datetime.datetime(2022, 5, 24, 15, 51, 20, 208757), datetime.datetime(2022, 5, 24, 15, 51, 20, 317192), datetime.datetime(2022, 5, 24, 15, 51, 20, 427048), datetime.datetime(2022, 5, 24, 15, 51, 22, 244472), datetime.datetime(2022, 5, 24, 15, 52, 9, 156094), datetime.datetime(2022, 5, 24, 15, 52, 9, 565050), datetime.datetime(2022, 5, 24, 15, 52, 9, 668971), datetime.datetime(2022, 5, 24, 15, 52, 9, 796155), datetime.datetime(2022, 5, 24, 15, 52, 10, 194083), datetime.datetime(2022, 5, 24, 15, 53, 22, 366705), datetime.datetime(2022, 5, 24, 15, 53, 23, 30986), datetime.datetime(2022, 5, 24, 15, 53, 23, 161456), datetime.datetime(2022, 5, 24, 16, 11, 23, 429342), datetime.datetime(2022, 5, 24, 16, 11, 56, 594475), datetime.datetime(2022, 5, 24, 16, 12, 3, 966567), datetime.datetime(2022, 5, 24, 16, 12, 42, 335394), datetime.datetime(2022, 5, 24, 21, 28, 55, 86455), datetime.datetime(2022, 5, 24, 21, 29, 3, 356195), datetime.datetime(2022, 5, 24, 21, 29, 16, 631217), datetime.datetime(2022, 5, 24, 21, 29, 22, 176572), datetime.datetime(2022, 5, 24, 21, 29, 29, 783523), datetime.datetime(2022, 5, 24, 21, 29, 45, 633206), datetime.datetime(2022, 5, 24, 21, 30, 0, 197289), datetime.datetime(2022, 5, 24, 21, 30, 21, 807843), datetime.datetime(2022, 5, 25, 9, 57, 46, 885257)], 'user_text_stock': ['2330'], 'user_text_strategy': ['SMA'], 'user_text_email': 'Abc@example.com', 'Mode': ''}, 'U0369730329f4006bcf211fb0dc39fc6c': {'time_record': [datetime.datetime(2022, 5, 24, 15, 55, 38, 838310), datetime.datetime(2022, 5, 24, 15, 55, 43, 73055), datetime.datetime(2022, 5, 24, 15, 55, 46, 657865), datetime.datetime(2022, 5, 24, 15, 55, 48, 918285), datetime.datetime(2022, 5, 24, 15, 55, 51, 815119), datetime.datetime(2022, 5, 24, 15, 55, 55, 53365), datetime.datetime(2022, 5, 24, 15, 56, 11, 356804), datetime.datetime(2022, 5, 24, 15, 56, 17, 174475), datetime.datetime(2022, 5, 24, 15, 56, 26, 594868), datetime.datetime(2022, 5, 24, 15, 56, 35, 194218), datetime.datetime(2022, 5, 25, 9, 58, 39, 119420), datetime.datetime(2022, 5, 25, 10, 2, 22, 777733), datetime.datetime(2022, 5, 25, 10, 2, 32, 300460)], 'user_text_stock': ['2330'], 'user_text_strategy': 0, 'user_text_email': 0, 'Mode': 'stock'}}\n"
     ]
    },
    {
     "name": "stderr",
     "output_type": "stream",
     "text": [
      "127.0.0.1 - - [25/May/2022 10:02:40] \"POST / HTTP/1.1\" 200 -\n"
     ]
    },
    {
     "name": "stdout",
     "output_type": "stream",
     "text": [
      "{\"destination\":\"U878fd853d012149602132f0bbff36330\",\"events\":[{\"type\":\"message\",\"message\":{\"type\":\"text\",\"id\":\"16145015925697\",\"text\":\"查詢投資策略\"},\"webhookEventId\":\"01G3WF7B6G9WA4C1AHVCWD3WM5\",\"deliveryContext\":{\"isRedelivery\":false},\"timestamp\":1653444160274,\"source\":{\"type\":\"user\",\"userId\":\"U0369730329f4006bcf211fb0dc39fc6c\"},\"replyToken\":\"e782719360a742aca7c52dfd55310383\",\"mode\":\"active\"}]} eCp4LcQo+SVtgY8TOGCVnW9D9zNw9YyEC/NGzCClirE=\n",
      "{'id': ['Uabbf74146ad98cf5f23a8bd3179cd8f6', 'U0369730329f4006bcf211fb0dc39fc6c'], 'Uabbf74146ad98cf5f23a8bd3179cd8f6': {'time_record': [datetime.datetime(2022, 5, 24, 15, 51, 5, 139524), datetime.datetime(2022, 5, 24, 15, 51, 6, 268375), datetime.datetime(2022, 5, 24, 15, 51, 6, 602050), datetime.datetime(2022, 5, 24, 15, 51, 6, 696863), datetime.datetime(2022, 5, 24, 15, 51, 7, 41825), datetime.datetime(2022, 5, 24, 15, 51, 8, 871993), datetime.datetime(2022, 5, 24, 15, 51, 19, 345449), datetime.datetime(2022, 5, 24, 15, 51, 19, 604617), datetime.datetime(2022, 5, 24, 15, 51, 20, 208757), datetime.datetime(2022, 5, 24, 15, 51, 20, 317192), datetime.datetime(2022, 5, 24, 15, 51, 20, 427048), datetime.datetime(2022, 5, 24, 15, 51, 22, 244472), datetime.datetime(2022, 5, 24, 15, 52, 9, 156094), datetime.datetime(2022, 5, 24, 15, 52, 9, 565050), datetime.datetime(2022, 5, 24, 15, 52, 9, 668971), datetime.datetime(2022, 5, 24, 15, 52, 9, 796155), datetime.datetime(2022, 5, 24, 15, 52, 10, 194083), datetime.datetime(2022, 5, 24, 15, 53, 22, 366705), datetime.datetime(2022, 5, 24, 15, 53, 23, 30986), datetime.datetime(2022, 5, 24, 15, 53, 23, 161456), datetime.datetime(2022, 5, 24, 16, 11, 23, 429342), datetime.datetime(2022, 5, 24, 16, 11, 56, 594475), datetime.datetime(2022, 5, 24, 16, 12, 3, 966567), datetime.datetime(2022, 5, 24, 16, 12, 42, 335394), datetime.datetime(2022, 5, 24, 21, 28, 55, 86455), datetime.datetime(2022, 5, 24, 21, 29, 3, 356195), datetime.datetime(2022, 5, 24, 21, 29, 16, 631217), datetime.datetime(2022, 5, 24, 21, 29, 22, 176572), datetime.datetime(2022, 5, 24, 21, 29, 29, 783523), datetime.datetime(2022, 5, 24, 21, 29, 45, 633206), datetime.datetime(2022, 5, 24, 21, 30, 0, 197289), datetime.datetime(2022, 5, 24, 21, 30, 21, 807843), datetime.datetime(2022, 5, 25, 9, 57, 46, 885257)], 'user_text_stock': ['2330'], 'user_text_strategy': ['SMA'], 'user_text_email': 'Abc@example.com', 'Mode': ''}, 'U0369730329f4006bcf211fb0dc39fc6c': {'time_record': [datetime.datetime(2022, 5, 24, 15, 55, 38, 838310), datetime.datetime(2022, 5, 24, 15, 55, 43, 73055), datetime.datetime(2022, 5, 24, 15, 55, 46, 657865), datetime.datetime(2022, 5, 24, 15, 55, 48, 918285), datetime.datetime(2022, 5, 24, 15, 55, 51, 815119), datetime.datetime(2022, 5, 24, 15, 55, 55, 53365), datetime.datetime(2022, 5, 24, 15, 56, 11, 356804), datetime.datetime(2022, 5, 24, 15, 56, 17, 174475), datetime.datetime(2022, 5, 24, 15, 56, 26, 594868), datetime.datetime(2022, 5, 24, 15, 56, 35, 194218), datetime.datetime(2022, 5, 25, 9, 58, 39, 119420), datetime.datetime(2022, 5, 25, 10, 2, 22, 777733), datetime.datetime(2022, 5, 25, 10, 2, 32, 300460), datetime.datetime(2022, 5, 25, 10, 2, 40, 784533)], 'user_text_stock': ['2330'], 'user_text_strategy': 0, 'user_text_email': 0, 'Mode': ''}}\n"
     ]
    },
    {
     "name": "stderr",
     "output_type": "stream",
     "text": [
      "127.0.0.1 - - [25/May/2022 10:02:46] \"POST / HTTP/1.1\" 200 -\n"
     ]
    },
    {
     "name": "stdout",
     "output_type": "stream",
     "text": [
      "{\"destination\":\"U878fd853d012149602132f0bbff36330\",\"events\":[{\"type\":\"message\",\"message\":{\"type\":\"text\",\"id\":\"16145016345523\",\"text\":\"查詢投資策略細節\"},\"webhookEventId\":\"01G3WF7GD7B25KY6TM4K8H4PFR\",\"deliveryContext\":{\"isRedelivery\":false},\"timestamp\":1653444165912,\"source\":{\"type\":\"user\",\"userId\":\"U0369730329f4006bcf211fb0dc39fc6c\"},\"replyToken\":\"486b31052a5942e4a5323e1f05472eb4\",\"mode\":\"active\"}]} kQE6Tr8EKWzTAxg1Df0kA9+O4WGuF/ZiuVl2+LU2WqA=\n",
      "{'id': ['Uabbf74146ad98cf5f23a8bd3179cd8f6', 'U0369730329f4006bcf211fb0dc39fc6c'], 'Uabbf74146ad98cf5f23a8bd3179cd8f6': {'time_record': [datetime.datetime(2022, 5, 24, 15, 51, 5, 139524), datetime.datetime(2022, 5, 24, 15, 51, 6, 268375), datetime.datetime(2022, 5, 24, 15, 51, 6, 602050), datetime.datetime(2022, 5, 24, 15, 51, 6, 696863), datetime.datetime(2022, 5, 24, 15, 51, 7, 41825), datetime.datetime(2022, 5, 24, 15, 51, 8, 871993), datetime.datetime(2022, 5, 24, 15, 51, 19, 345449), datetime.datetime(2022, 5, 24, 15, 51, 19, 604617), datetime.datetime(2022, 5, 24, 15, 51, 20, 208757), datetime.datetime(2022, 5, 24, 15, 51, 20, 317192), datetime.datetime(2022, 5, 24, 15, 51, 20, 427048), datetime.datetime(2022, 5, 24, 15, 51, 22, 244472), datetime.datetime(2022, 5, 24, 15, 52, 9, 156094), datetime.datetime(2022, 5, 24, 15, 52, 9, 565050), datetime.datetime(2022, 5, 24, 15, 52, 9, 668971), datetime.datetime(2022, 5, 24, 15, 52, 9, 796155), datetime.datetime(2022, 5, 24, 15, 52, 10, 194083), datetime.datetime(2022, 5, 24, 15, 53, 22, 366705), datetime.datetime(2022, 5, 24, 15, 53, 23, 30986), datetime.datetime(2022, 5, 24, 15, 53, 23, 161456), datetime.datetime(2022, 5, 24, 16, 11, 23, 429342), datetime.datetime(2022, 5, 24, 16, 11, 56, 594475), datetime.datetime(2022, 5, 24, 16, 12, 3, 966567), datetime.datetime(2022, 5, 24, 16, 12, 42, 335394), datetime.datetime(2022, 5, 24, 21, 28, 55, 86455), datetime.datetime(2022, 5, 24, 21, 29, 3, 356195), datetime.datetime(2022, 5, 24, 21, 29, 16, 631217), datetime.datetime(2022, 5, 24, 21, 29, 22, 176572), datetime.datetime(2022, 5, 24, 21, 29, 29, 783523), datetime.datetime(2022, 5, 24, 21, 29, 45, 633206), datetime.datetime(2022, 5, 24, 21, 30, 0, 197289), datetime.datetime(2022, 5, 24, 21, 30, 21, 807843), datetime.datetime(2022, 5, 25, 9, 57, 46, 885257)], 'user_text_stock': ['2330'], 'user_text_strategy': ['SMA'], 'user_text_email': 'Abc@example.com', 'Mode': ''}, 'U0369730329f4006bcf211fb0dc39fc6c': {'time_record': [datetime.datetime(2022, 5, 24, 15, 55, 38, 838310), datetime.datetime(2022, 5, 24, 15, 55, 43, 73055), datetime.datetime(2022, 5, 24, 15, 55, 46, 657865), datetime.datetime(2022, 5, 24, 15, 55, 48, 918285), datetime.datetime(2022, 5, 24, 15, 55, 51, 815119), datetime.datetime(2022, 5, 24, 15, 55, 55, 53365), datetime.datetime(2022, 5, 24, 15, 56, 11, 356804), datetime.datetime(2022, 5, 24, 15, 56, 17, 174475), datetime.datetime(2022, 5, 24, 15, 56, 26, 594868), datetime.datetime(2022, 5, 24, 15, 56, 35, 194218), datetime.datetime(2022, 5, 25, 9, 58, 39, 119420), datetime.datetime(2022, 5, 25, 10, 2, 22, 777733), datetime.datetime(2022, 5, 25, 10, 2, 32, 300460), datetime.datetime(2022, 5, 25, 10, 2, 40, 784533), datetime.datetime(2022, 5, 25, 10, 2, 46, 125301)], 'user_text_stock': ['2330'], 'user_text_strategy': 0, 'user_text_email': 0, 'Mode': 'strategy'}}\n"
     ]
    },
    {
     "name": "stderr",
     "output_type": "stream",
     "text": [
      "127.0.0.1 - - [25/May/2022 10:02:58] \"POST / HTTP/1.1\" 200 -\n"
     ]
    },
    {
     "name": "stdout",
     "output_type": "stream",
     "text": [
      "{\"destination\":\"U878fd853d012149602132f0bbff36330\",\"events\":[{\"type\":\"message\",\"message\":{\"type\":\"text\",\"id\":\"16145017208529\",\"text\":\"KD\"},\"webhookEventId\":\"01G3WF7VWAWHEQBGK413MTAYQ6\",\"deliveryContext\":{\"isRedelivery\":false},\"timestamp\":1653444177502,\"source\":{\"type\":\"user\",\"userId\":\"U0369730329f4006bcf211fb0dc39fc6c\"},\"replyToken\":\"baf24a9b6c3040e0a4440c780c883656\",\"mode\":\"active\"}]} VtjVLMEW1jG4kXgFyLL4o0bxE86Ts+KH8idCpFbz5I8=\n",
      "{'id': ['Uabbf74146ad98cf5f23a8bd3179cd8f6', 'U0369730329f4006bcf211fb0dc39fc6c'], 'Uabbf74146ad98cf5f23a8bd3179cd8f6': {'time_record': [datetime.datetime(2022, 5, 24, 15, 51, 5, 139524), datetime.datetime(2022, 5, 24, 15, 51, 6, 268375), datetime.datetime(2022, 5, 24, 15, 51, 6, 602050), datetime.datetime(2022, 5, 24, 15, 51, 6, 696863), datetime.datetime(2022, 5, 24, 15, 51, 7, 41825), datetime.datetime(2022, 5, 24, 15, 51, 8, 871993), datetime.datetime(2022, 5, 24, 15, 51, 19, 345449), datetime.datetime(2022, 5, 24, 15, 51, 19, 604617), datetime.datetime(2022, 5, 24, 15, 51, 20, 208757), datetime.datetime(2022, 5, 24, 15, 51, 20, 317192), datetime.datetime(2022, 5, 24, 15, 51, 20, 427048), datetime.datetime(2022, 5, 24, 15, 51, 22, 244472), datetime.datetime(2022, 5, 24, 15, 52, 9, 156094), datetime.datetime(2022, 5, 24, 15, 52, 9, 565050), datetime.datetime(2022, 5, 24, 15, 52, 9, 668971), datetime.datetime(2022, 5, 24, 15, 52, 9, 796155), datetime.datetime(2022, 5, 24, 15, 52, 10, 194083), datetime.datetime(2022, 5, 24, 15, 53, 22, 366705), datetime.datetime(2022, 5, 24, 15, 53, 23, 30986), datetime.datetime(2022, 5, 24, 15, 53, 23, 161456), datetime.datetime(2022, 5, 24, 16, 11, 23, 429342), datetime.datetime(2022, 5, 24, 16, 11, 56, 594475), datetime.datetime(2022, 5, 24, 16, 12, 3, 966567), datetime.datetime(2022, 5, 24, 16, 12, 42, 335394), datetime.datetime(2022, 5, 24, 21, 28, 55, 86455), datetime.datetime(2022, 5, 24, 21, 29, 3, 356195), datetime.datetime(2022, 5, 24, 21, 29, 16, 631217), datetime.datetime(2022, 5, 24, 21, 29, 22, 176572), datetime.datetime(2022, 5, 24, 21, 29, 29, 783523), datetime.datetime(2022, 5, 24, 21, 29, 45, 633206), datetime.datetime(2022, 5, 24, 21, 30, 0, 197289), datetime.datetime(2022, 5, 24, 21, 30, 21, 807843), datetime.datetime(2022, 5, 25, 9, 57, 46, 885257)], 'user_text_stock': ['2330'], 'user_text_strategy': ['SMA'], 'user_text_email': 'Abc@example.com', 'Mode': ''}, 'U0369730329f4006bcf211fb0dc39fc6c': {'time_record': [datetime.datetime(2022, 5, 24, 15, 55, 38, 838310), datetime.datetime(2022, 5, 24, 15, 55, 43, 73055), datetime.datetime(2022, 5, 24, 15, 55, 46, 657865), datetime.datetime(2022, 5, 24, 15, 55, 48, 918285), datetime.datetime(2022, 5, 24, 15, 55, 51, 815119), datetime.datetime(2022, 5, 24, 15, 55, 55, 53365), datetime.datetime(2022, 5, 24, 15, 56, 11, 356804), datetime.datetime(2022, 5, 24, 15, 56, 17, 174475), datetime.datetime(2022, 5, 24, 15, 56, 26, 594868), datetime.datetime(2022, 5, 24, 15, 56, 35, 194218), datetime.datetime(2022, 5, 25, 9, 58, 39, 119420), datetime.datetime(2022, 5, 25, 10, 2, 22, 777733), datetime.datetime(2022, 5, 25, 10, 2, 32, 300460), datetime.datetime(2022, 5, 25, 10, 2, 40, 784533), datetime.datetime(2022, 5, 25, 10, 2, 46, 125301), datetime.datetime(2022, 5, 25, 10, 2, 57, 900831)], 'user_text_stock': ['2330'], 'user_text_strategy': ['KD'], 'user_text_email': 0, 'Mode': 'strategy'}}\n"
     ]
    },
    {
     "name": "stderr",
     "output_type": "stream",
     "text": [
      "127.0.0.1 - - [25/May/2022 10:03:07] \"POST / HTTP/1.1\" 200 -\n"
     ]
    },
    {
     "name": "stdout",
     "output_type": "stream",
     "text": [
      "{\"destination\":\"U878fd853d012149602132f0bbff36330\",\"events\":[{\"type\":\"message\",\"message\":{\"type\":\"text\",\"id\":\"16145017953671\",\"text\":\"請告訴我使用規則\"},\"webhookEventId\":\"01G3WF85F1K5N9EEM5W0MH83J5\",\"deliveryContext\":{\"isRedelivery\":false},\"timestamp\":1653444187484,\"source\":{\"type\":\"user\",\"userId\":\"U0369730329f4006bcf211fb0dc39fc6c\"},\"replyToken\":\"45806f011a64443b97a7c7e8fb8c1508\",\"mode\":\"active\"}]} +BpGs8+13eLufg7QFQqyG7QqzLaIZCnaizEHl62FswY=\n",
      "{'id': ['Uabbf74146ad98cf5f23a8bd3179cd8f6', 'U0369730329f4006bcf211fb0dc39fc6c'], 'Uabbf74146ad98cf5f23a8bd3179cd8f6': {'time_record': [datetime.datetime(2022, 5, 24, 15, 51, 5, 139524), datetime.datetime(2022, 5, 24, 15, 51, 6, 268375), datetime.datetime(2022, 5, 24, 15, 51, 6, 602050), datetime.datetime(2022, 5, 24, 15, 51, 6, 696863), datetime.datetime(2022, 5, 24, 15, 51, 7, 41825), datetime.datetime(2022, 5, 24, 15, 51, 8, 871993), datetime.datetime(2022, 5, 24, 15, 51, 19, 345449), datetime.datetime(2022, 5, 24, 15, 51, 19, 604617), datetime.datetime(2022, 5, 24, 15, 51, 20, 208757), datetime.datetime(2022, 5, 24, 15, 51, 20, 317192), datetime.datetime(2022, 5, 24, 15, 51, 20, 427048), datetime.datetime(2022, 5, 24, 15, 51, 22, 244472), datetime.datetime(2022, 5, 24, 15, 52, 9, 156094), datetime.datetime(2022, 5, 24, 15, 52, 9, 565050), datetime.datetime(2022, 5, 24, 15, 52, 9, 668971), datetime.datetime(2022, 5, 24, 15, 52, 9, 796155), datetime.datetime(2022, 5, 24, 15, 52, 10, 194083), datetime.datetime(2022, 5, 24, 15, 53, 22, 366705), datetime.datetime(2022, 5, 24, 15, 53, 23, 30986), datetime.datetime(2022, 5, 24, 15, 53, 23, 161456), datetime.datetime(2022, 5, 24, 16, 11, 23, 429342), datetime.datetime(2022, 5, 24, 16, 11, 56, 594475), datetime.datetime(2022, 5, 24, 16, 12, 3, 966567), datetime.datetime(2022, 5, 24, 16, 12, 42, 335394), datetime.datetime(2022, 5, 24, 21, 28, 55, 86455), datetime.datetime(2022, 5, 24, 21, 29, 3, 356195), datetime.datetime(2022, 5, 24, 21, 29, 16, 631217), datetime.datetime(2022, 5, 24, 21, 29, 22, 176572), datetime.datetime(2022, 5, 24, 21, 29, 29, 783523), datetime.datetime(2022, 5, 24, 21, 29, 45, 633206), datetime.datetime(2022, 5, 24, 21, 30, 0, 197289), datetime.datetime(2022, 5, 24, 21, 30, 21, 807843), datetime.datetime(2022, 5, 25, 9, 57, 46, 885257)], 'user_text_stock': ['2330'], 'user_text_strategy': ['SMA'], 'user_text_email': 'Abc@example.com', 'Mode': ''}, 'U0369730329f4006bcf211fb0dc39fc6c': {'time_record': [datetime.datetime(2022, 5, 24, 15, 55, 38, 838310), datetime.datetime(2022, 5, 24, 15, 55, 43, 73055), datetime.datetime(2022, 5, 24, 15, 55, 46, 657865), datetime.datetime(2022, 5, 24, 15, 55, 48, 918285), datetime.datetime(2022, 5, 24, 15, 55, 51, 815119), datetime.datetime(2022, 5, 24, 15, 55, 55, 53365), datetime.datetime(2022, 5, 24, 15, 56, 11, 356804), datetime.datetime(2022, 5, 24, 15, 56, 17, 174475), datetime.datetime(2022, 5, 24, 15, 56, 26, 594868), datetime.datetime(2022, 5, 24, 15, 56, 35, 194218), datetime.datetime(2022, 5, 25, 9, 58, 39, 119420), datetime.datetime(2022, 5, 25, 10, 2, 22, 777733), datetime.datetime(2022, 5, 25, 10, 2, 32, 300460), datetime.datetime(2022, 5, 25, 10, 2, 40, 784533), datetime.datetime(2022, 5, 25, 10, 2, 46, 125301), datetime.datetime(2022, 5, 25, 10, 2, 57, 900831), datetime.datetime(2022, 5, 25, 10, 3, 7, 731965)], 'user_text_stock': ['2330'], 'user_text_strategy': ['KD'], 'user_text_email': 0, 'Mode': ''}}\n"
     ]
    },
    {
     "name": "stderr",
     "output_type": "stream",
     "text": [
      "127.0.0.1 - - [25/May/2022 10:03:23] \"POST / HTTP/1.1\" 200 -\n"
     ]
    },
    {
     "name": "stdout",
     "output_type": "stream",
     "text": [
      "{\"destination\":\"U878fd853d012149602132f0bbff36330\",\"events\":[{\"type\":\"message\",\"message\":{\"type\":\"text\",\"id\":\"16145019098858\",\"text\":\"我要提供Email\"},\"webhookEventId\":\"01G3WF8MTW1MX1DZMAEPHZNZ7W\",\"deliveryContext\":{\"isRedelivery\":false},\"timestamp\":1653444203084,\"source\":{\"type\":\"user\",\"userId\":\"U0369730329f4006bcf211fb0dc39fc6c\"},\"replyToken\":\"73c918e3d0e64ad18caabe7f8e7717cc\",\"mode\":\"active\"}]} 1oIPQ4Bwby/T1EEChyeqD9WNnpilqmwLNRYqtgdMpDA=\n",
      "{'id': ['Uabbf74146ad98cf5f23a8bd3179cd8f6', 'U0369730329f4006bcf211fb0dc39fc6c'], 'Uabbf74146ad98cf5f23a8bd3179cd8f6': {'time_record': [datetime.datetime(2022, 5, 24, 15, 51, 5, 139524), datetime.datetime(2022, 5, 24, 15, 51, 6, 268375), datetime.datetime(2022, 5, 24, 15, 51, 6, 602050), datetime.datetime(2022, 5, 24, 15, 51, 6, 696863), datetime.datetime(2022, 5, 24, 15, 51, 7, 41825), datetime.datetime(2022, 5, 24, 15, 51, 8, 871993), datetime.datetime(2022, 5, 24, 15, 51, 19, 345449), datetime.datetime(2022, 5, 24, 15, 51, 19, 604617), datetime.datetime(2022, 5, 24, 15, 51, 20, 208757), datetime.datetime(2022, 5, 24, 15, 51, 20, 317192), datetime.datetime(2022, 5, 24, 15, 51, 20, 427048), datetime.datetime(2022, 5, 24, 15, 51, 22, 244472), datetime.datetime(2022, 5, 24, 15, 52, 9, 156094), datetime.datetime(2022, 5, 24, 15, 52, 9, 565050), datetime.datetime(2022, 5, 24, 15, 52, 9, 668971), datetime.datetime(2022, 5, 24, 15, 52, 9, 796155), datetime.datetime(2022, 5, 24, 15, 52, 10, 194083), datetime.datetime(2022, 5, 24, 15, 53, 22, 366705), datetime.datetime(2022, 5, 24, 15, 53, 23, 30986), datetime.datetime(2022, 5, 24, 15, 53, 23, 161456), datetime.datetime(2022, 5, 24, 16, 11, 23, 429342), datetime.datetime(2022, 5, 24, 16, 11, 56, 594475), datetime.datetime(2022, 5, 24, 16, 12, 3, 966567), datetime.datetime(2022, 5, 24, 16, 12, 42, 335394), datetime.datetime(2022, 5, 24, 21, 28, 55, 86455), datetime.datetime(2022, 5, 24, 21, 29, 3, 356195), datetime.datetime(2022, 5, 24, 21, 29, 16, 631217), datetime.datetime(2022, 5, 24, 21, 29, 22, 176572), datetime.datetime(2022, 5, 24, 21, 29, 29, 783523), datetime.datetime(2022, 5, 24, 21, 29, 45, 633206), datetime.datetime(2022, 5, 24, 21, 30, 0, 197289), datetime.datetime(2022, 5, 24, 21, 30, 21, 807843), datetime.datetime(2022, 5, 25, 9, 57, 46, 885257)], 'user_text_stock': ['2330'], 'user_text_strategy': ['SMA'], 'user_text_email': 'Abc@example.com', 'Mode': ''}, 'U0369730329f4006bcf211fb0dc39fc6c': {'time_record': [datetime.datetime(2022, 5, 24, 15, 55, 38, 838310), datetime.datetime(2022, 5, 24, 15, 55, 43, 73055), datetime.datetime(2022, 5, 24, 15, 55, 46, 657865), datetime.datetime(2022, 5, 24, 15, 55, 48, 918285), datetime.datetime(2022, 5, 24, 15, 55, 51, 815119), datetime.datetime(2022, 5, 24, 15, 55, 55, 53365), datetime.datetime(2022, 5, 24, 15, 56, 11, 356804), datetime.datetime(2022, 5, 24, 15, 56, 17, 174475), datetime.datetime(2022, 5, 24, 15, 56, 26, 594868), datetime.datetime(2022, 5, 24, 15, 56, 35, 194218), datetime.datetime(2022, 5, 25, 9, 58, 39, 119420), datetime.datetime(2022, 5, 25, 10, 2, 22, 777733), datetime.datetime(2022, 5, 25, 10, 2, 32, 300460), datetime.datetime(2022, 5, 25, 10, 2, 40, 784533), datetime.datetime(2022, 5, 25, 10, 2, 46, 125301), datetime.datetime(2022, 5, 25, 10, 2, 57, 900831), datetime.datetime(2022, 5, 25, 10, 3, 7, 731965), datetime.datetime(2022, 5, 25, 10, 3, 23, 600753)], 'user_text_stock': ['2330'], 'user_text_strategy': ['KD'], 'user_text_email': 0, 'Mode': 'email'}}\n",
      "{\"destination\":\"U878fd853d012149602132f0bbff36330\",\"events\":[{\"type\":\"message\",\"message\":{\"type\":\"text\",\"id\":\"16145020911786\",\"text\":\"Abc@example.com\"},\"webhookEventId\":\"01G3WF9D5M0CWSQTPGJY8SK836\",\"deliveryContext\":{\"isRedelivery\":false},\"timestamp\":1653444227822,\"source\":{\"type\":\"user\",\"userId\":\"U0369730329f4006bcf211fb0dc39fc6c\"},\"replyToken\":\"157f55bad5824307b1f5b2e428031c15\",\"mode\":\"active\"}]} axhvoWd6WRn8riyDSTVzzmk4Vn7+viAlvhWlHezs/XA=\n"
     ]
    },
    {
     "name": "stderr",
     "output_type": "stream",
     "text": [
      "127.0.0.1 - - [25/May/2022 10:03:48] \"POST / HTTP/1.1\" 200 -\n"
     ]
    },
    {
     "name": "stdout",
     "output_type": "stream",
     "text": [
      "{'id': ['Uabbf74146ad98cf5f23a8bd3179cd8f6', 'U0369730329f4006bcf211fb0dc39fc6c'], 'Uabbf74146ad98cf5f23a8bd3179cd8f6': {'time_record': [datetime.datetime(2022, 5, 24, 15, 51, 5, 139524), datetime.datetime(2022, 5, 24, 15, 51, 6, 268375), datetime.datetime(2022, 5, 24, 15, 51, 6, 602050), datetime.datetime(2022, 5, 24, 15, 51, 6, 696863), datetime.datetime(2022, 5, 24, 15, 51, 7, 41825), datetime.datetime(2022, 5, 24, 15, 51, 8, 871993), datetime.datetime(2022, 5, 24, 15, 51, 19, 345449), datetime.datetime(2022, 5, 24, 15, 51, 19, 604617), datetime.datetime(2022, 5, 24, 15, 51, 20, 208757), datetime.datetime(2022, 5, 24, 15, 51, 20, 317192), datetime.datetime(2022, 5, 24, 15, 51, 20, 427048), datetime.datetime(2022, 5, 24, 15, 51, 22, 244472), datetime.datetime(2022, 5, 24, 15, 52, 9, 156094), datetime.datetime(2022, 5, 24, 15, 52, 9, 565050), datetime.datetime(2022, 5, 24, 15, 52, 9, 668971), datetime.datetime(2022, 5, 24, 15, 52, 9, 796155), datetime.datetime(2022, 5, 24, 15, 52, 10, 194083), datetime.datetime(2022, 5, 24, 15, 53, 22, 366705), datetime.datetime(2022, 5, 24, 15, 53, 23, 30986), datetime.datetime(2022, 5, 24, 15, 53, 23, 161456), datetime.datetime(2022, 5, 24, 16, 11, 23, 429342), datetime.datetime(2022, 5, 24, 16, 11, 56, 594475), datetime.datetime(2022, 5, 24, 16, 12, 3, 966567), datetime.datetime(2022, 5, 24, 16, 12, 42, 335394), datetime.datetime(2022, 5, 24, 21, 28, 55, 86455), datetime.datetime(2022, 5, 24, 21, 29, 3, 356195), datetime.datetime(2022, 5, 24, 21, 29, 16, 631217), datetime.datetime(2022, 5, 24, 21, 29, 22, 176572), datetime.datetime(2022, 5, 24, 21, 29, 29, 783523), datetime.datetime(2022, 5, 24, 21, 29, 45, 633206), datetime.datetime(2022, 5, 24, 21, 30, 0, 197289), datetime.datetime(2022, 5, 24, 21, 30, 21, 807843), datetime.datetime(2022, 5, 25, 9, 57, 46, 885257)], 'user_text_stock': ['2330'], 'user_text_strategy': ['SMA'], 'user_text_email': 'Abc@example.com', 'Mode': ''}, 'U0369730329f4006bcf211fb0dc39fc6c': {'time_record': [datetime.datetime(2022, 5, 24, 15, 55, 38, 838310), datetime.datetime(2022, 5, 24, 15, 55, 43, 73055), datetime.datetime(2022, 5, 24, 15, 55, 46, 657865), datetime.datetime(2022, 5, 24, 15, 55, 48, 918285), datetime.datetime(2022, 5, 24, 15, 55, 51, 815119), datetime.datetime(2022, 5, 24, 15, 55, 55, 53365), datetime.datetime(2022, 5, 24, 15, 56, 11, 356804), datetime.datetime(2022, 5, 24, 15, 56, 17, 174475), datetime.datetime(2022, 5, 24, 15, 56, 26, 594868), datetime.datetime(2022, 5, 24, 15, 56, 35, 194218), datetime.datetime(2022, 5, 25, 9, 58, 39, 119420), datetime.datetime(2022, 5, 25, 10, 2, 22, 777733), datetime.datetime(2022, 5, 25, 10, 2, 32, 300460), datetime.datetime(2022, 5, 25, 10, 2, 40, 784533), datetime.datetime(2022, 5, 25, 10, 2, 46, 125301), datetime.datetime(2022, 5, 25, 10, 2, 57, 900831), datetime.datetime(2022, 5, 25, 10, 3, 7, 731965), datetime.datetime(2022, 5, 25, 10, 3, 23, 600753), datetime.datetime(2022, 5, 25, 10, 3, 48, 382333)], 'user_text_stock': ['2330'], 'user_text_strategy': ['KD'], 'user_text_email': 'Abc@example.com', 'Mode': ''}}\n",
      "{\"destination\":\"U878fd853d012149602132f0bbff36330\",\"events\":[{\"type\":\"message\",\"message\":{\"type\":\"text\",\"id\":\"16145022462071\",\"text\":\"KD 2330\"},\"webhookEventId\":\"01G3WFA1KSHDZJN7XETSZHXHZ9\",\"deliveryContext\":{\"isRedelivery\":false},\"timestamp\":1653444248695,\"source\":{\"type\":\"user\",\"userId\":\"U0369730329f4006bcf211fb0dc39fc6c\"},\"replyToken\":\"23b81385865f4c0d96af0eed5578c7c8\",\"mode\":\"active\"}]} ZET3qdb1555C4KL16q2LivxrUnp6OQYRA2IqDL6JCZc=\n",
      "買入日期：2019-02-19\n",
      "買入價：229.0\n",
      "<class 'float'>\n",
      "賣出日期：2019-03-04\n",
      "賣出價：235.5\n",
      "235.5 - 229.0 = 6.5\n",
      "買入日期：2019-03-15\n",
      "買入價：239.0\n",
      "<class 'float'>\n",
      "賣出日期：2019-03-25\n",
      "賣出價：241.5\n",
      "241.5 - 239.0 = 2.5\n",
      "買入日期：2019-04-03\n",
      "買入價：246.5\n",
      "<class 'float'>\n",
      "賣出日期：2019-04-19\n",
      "賣出價：264.5\n",
      "264.5 - 246.5 = 18.0\n",
      "買入日期：2019-04-24\n",
      "買入價：269.0\n",
      "<class 'float'>\n",
      "賣出日期：2019-04-26\n",
      "賣出價：260.0\n",
      "260.0 - 269.0 = -9.0\n",
      "買入日期：2019-05-30\n",
      "買入價：231.0\n",
      "<class 'float'>\n",
      "賣出日期：2019-06-17\n",
      "賣出價：233.0\n",
      "233.0 - 231.0 = 2.0\n",
      "買入日期：2019-06-19\n",
      "買入價：244.0\n",
      "<class 'float'>\n",
      "賣出日期：2019-06-26\n",
      "賣出價：234.5\n",
      "234.5 - 244.0 = -9.5\n",
      "買入日期：2019-07-01\n",
      "買入價：248.5\n",
      "<class 'float'>\n",
      "賣出日期：2019-07-05\n",
      "賣出價：243.0\n",
      "243.0 - 248.5 = -5.5\n",
      "買入日期：2019-07-10\n",
      "買入價：247.0\n",
      "<class 'float'>\n",
      "賣出日期：2019-07-26\n",
      "賣出價：261.0\n",
      "261.0 - 247.0 = 14.0\n",
      "買入日期：2019-08-19\n",
      "買入價：252.0\n",
      "<class 'float'>\n",
      "賣出日期：2019-08-27\n",
      "賣出價：250.0\n",
      "250.0 - 252.0 = -2.0\n",
      "買入日期：2019-08-28\n",
      "買入價：252.0\n",
      "<class 'float'>\n",
      "賣出日期：2019-09-12\n",
      "賣出價：262.5\n",
      "262.5 - 252.0 = 10.5\n",
      "買入日期：2019-09-16\n",
      "買入價：265.5\n",
      "<class 'float'>\n",
      "賣出日期：2019-09-19\n",
      "賣出價：265.0\n",
      "265.0 - 265.5 = -0.5\n",
      "買入日期：2019-09-26\n",
      "買入價：268.0\n",
      "<class 'float'>\n",
      "賣出日期：2019-10-04\n",
      "賣出價：276.5\n",
      "276.5 - 268.0 = 8.5\n",
      "買入日期：2019-10-08\n",
      "買入價：286.5\n",
      "<class 'float'>\n",
      "賣出日期：2019-10-09\n",
      "賣出價：282.0\n",
      "282.0 - 286.5 = -4.5\n",
      "買入日期：2019-10-14\n",
      "買入價：290.0\n",
      "<class 'float'>\n",
      "賣出日期：2019-10-18\n",
      "賣出價：293.0\n",
      "293.0 - 290.0 = 3.0\n",
      "買入日期：2019-10-28\n",
      "買入價：294.5\n",
      "<class 'float'>\n",
      "賣出日期：2019-11-08\n",
      "賣出價：305.5\n",
      "305.5 - 294.5 = 11.0\n",
      "買入日期：2019-11-18\n",
      "買入價：311.0\n",
      "<class 'float'>\n",
      "賣出日期：2019-11-22\n",
      "賣出價：309.0\n",
      "309.0 - 311.0 = -2.0\n",
      "買入日期：2019-12-05\n",
      "買入價：312.0\n",
      "<class 'float'>\n",
      "賣出日期：2019-12-19\n",
      "賣出價：335.0\n",
      "335.0 - 312.0 = 23.0\n",
      "買入日期：2019-12-27\n",
      "買入價：338.0\n",
      "<class 'float'>\n",
      "賣出日期：2019-12-30\n",
      "賣出價：334.5\n",
      "334.5 - 338.0 = -3.5\n",
      "買入日期：2020-01-02\n",
      "買入價：339.0\n",
      "<class 'float'>\n",
      "賣出日期：2020-01-06\n",
      "賣出價：332.0\n",
      "332.0 - 339.0 = -7.0\n",
      "買入日期：2020-01-13\n",
      "買入價：341.5\n",
      "<class 'float'>\n",
      "賣出日期：2020-01-16\n",
      "賣出價：334.5\n",
      "334.5 - 341.5 = -7.0\n",
      "買入日期：2020-02-05\n",
      "買入價：327.5\n",
      "<class 'float'>\n",
      "賣出日期：2020-02-18\n",
      "賣出價：322.0\n",
      "322.0 - 327.5 = -5.5\n",
      "買入日期：2020-03-04\n",
      "買入價：320.5\n",
      "<class 'float'>\n",
      "賣出日期：2020-03-06\n",
      "賣出價：315.0\n",
      "315.0 - 320.5 = -5.5\n",
      "買入日期：2020-03-20\n",
      "買入價：270.0\n",
      "<class 'float'>\n",
      "賣出日期：2020-04-22\n",
      "賣出價：294.0\n",
      "294.0 - 270.0 = 24.0\n",
      "買入日期：2020-04-30\n",
      "買入價：304.5\n",
      "<class 'float'>\n",
      "賣出日期：2020-05-04\n",
      "賣出價：295.0\n",
      "295.0 - 304.5 = -9.5\n",
      "買入日期：2020-05-11\n",
      "買入價：301.0\n",
      "<class 'float'>\n",
      "賣出日期：2020-05-12\n",
      "賣出價：295.0\n",
      "295.0 - 301.0 = -6.0\n",
      "買入日期：2020-05-26\n",
      "買入價：295.5\n",
      "<class 'float'>\n",
      "賣出日期：2020-05-29\n",
      "賣出價：292.0\n",
      "292.0 - 295.5 = -3.5\n",
      "買入日期：2020-06-01\n",
      "買入價：295.5\n",
      "<class 'float'>\n",
      "賣出日期：2020-06-12\n",
      "賣出價：316.0\n",
      "316.0 - 295.5 = 20.5\n",
      "買入日期：2020-06-24\n",
      "買入價：317.5\n",
      "<class 'float'>\n",
      "賣出日期：2020-06-29\n",
      "賣出價：312.0\n",
      "312.0 - 317.5 = -5.5\n",
      "買入日期：2020-07-02\n",
      "買入價：322.0\n",
      "<class 'float'>\n",
      "賣出日期：2020-07-16\n",
      "賣出價：357.5\n",
      "357.5 - 322.0 = 35.5\n",
      "買入日期：2020-07-17\n",
      "買入價：367.0\n",
      "<class 'float'>\n",
      "賣出日期：2020-07-24\n",
      "賣出價：386.0\n",
      "386.0 - 367.0 = 19.0\n",
      "買入日期：2020-07-27\n",
      "買入價：424.5\n",
      "<class 'float'>\n",
      "賣出日期：2020-07-28\n",
      "賣出價：435.0\n",
      "435.0 - 424.5 = 10.5\n",
      "買入日期：2020-08-25\n",
      "買入價：434.5\n",
      "<class 'float'>\n",
      "賣出日期：2020-08-31\n",
      "賣出價：426.5\n",
      "426.5 - 434.5 = -8.0\n",
      "買入日期：2020-09-11\n",
      "買入價：436.5\n",
      "<class 'float'>\n",
      "賣出日期：2020-09-18\n",
      "賣出價：444.0\n",
      "444.0 - 436.5 = 7.5\n",
      "買入日期：2020-10-06\n",
      "買入價：439.5\n",
      "<class 'float'>\n",
      "賣出日期：2020-10-23\n",
      "賣出價：452.0\n",
      "452.0 - 439.5 = 12.5\n",
      "買入日期：2020-11-04\n",
      "買入價：450.0\n",
      "<class 'float'>\n",
      "賣出日期：2020-11-20\n",
      "賣出價：488.0\n",
      "488.0 - 450.0 = 38.0\n",
      "買入日期：2020-11-23\n",
      "買入價：496.5\n",
      "<class 'float'>\n",
      "賣出日期：2020-11-25\n",
      "賣出價：487.0\n",
      "487.0 - 496.5 = -9.5\n",
      "買入日期：2020-12-02\n",
      "買入價：499.0\n",
      "<class 'float'>\n",
      "賣出日期：2020-12-11\n",
      "賣出價：516.0\n",
      "516.0 - 499.0 = 17.0\n",
      "買入日期：2020-12-28\n",
      "買入價：515.0\n",
      "<class 'float'>\n",
      "賣出日期：2021-01-14\n",
      "賣出價：592.0\n",
      "592.0 - 515.0 = 77.0\n",
      "買入日期：2021-01-20\n",
      "買入價：647.0\n",
      "<class 'float'>\n",
      "賣出日期：2021-01-22\n",
      "賣出價：649.0\n",
      "649.0 - 647.0 = 2.0\n",
      "買入日期：2021-02-17\n",
      "買入價：663.0\n",
      "<class 'float'>\n",
      "賣出日期：2021-02-23\n",
      "賣出價：641.0\n",
      "641.0 - 663.0 = -22.0\n",
      "買入日期：2021-03-12\n",
      "買入價：614.0\n",
      "<class 'float'>\n",
      "賣出日期：2021-03-18\n",
      "賣出價：602.0\n",
      "602.0 - 614.0 = -12.0\n",
      "買入日期：2021-03-26\n",
      "買入價：590.0\n",
      "<class 'float'>\n",
      "賣出日期：2021-04-19\n",
      "賣出價：603.0\n",
      "603.0 - 590.0 = 13.0\n",
      "買入日期：2021-04-26\n",
      "買入價：610.0\n",
      "<class 'float'>\n",
      "賣出日期：2021-04-28\n",
      "賣出價：602.0\n",
      "602.0 - 610.0 = -8.0\n",
      "買入日期：2021-05-13\n",
      "買入價：547.0\n",
      "<class 'float'>\n",
      "賣出日期：2021-06-09\n",
      "賣出價：586.0\n",
      "586.0 - 547.0 = 39.0\n",
      "買入日期：2021-06-10\n",
      "買入價：599.0\n",
      "<class 'float'>\n",
      "賣出日期：2021-06-18\n",
      "賣出價：603.0\n",
      "603.0 - 599.0 = 4.0\n",
      "買入日期：2021-07-07\n",
      "買入價：594.0\n",
      "<class 'float'>\n",
      "賣出日期：2021-07-08\n",
      "賣出價：588.0\n",
      "588.0 - 594.0 = -6.0\n",
      "買入日期：2021-07-13\n",
      "買入價：607.0\n",
      "<class 'float'>\n",
      "賣出日期：2021-07-19\n",
      "賣出價：582.0\n",
      "582.0 - 607.0 = -25.0\n",
      "買入日期：2021-08-02\n",
      "買入價：590.0\n",
      "<class 'float'>\n",
      "賣出日期：2021-08-13\n",
      "賣出價：581.0\n",
      "581.0 - 590.0 = -9.0\n",
      "買入日期：2021-08-24\n",
      "買入價：572.0\n",
      "<class 'float'>\n",
      "賣出日期：2021-09-08\n",
      "賣出價：619.0\n",
      "619.0 - 572.0 = 47.0\n",
      "買入日期：2021-10-07\n",
      "買入價：580.0\n",
      "<class 'float'>\n",
      "賣出日期：2021-10-29\n",
      "賣出價：590.0\n",
      "590.0 - 580.0 = 10.0\n",
      "買入日期：2021-11-05\n",
      "買入價：600.0\n",
      "<class 'float'>\n",
      "賣出日期：2021-11-11\n",
      "賣出價：606.0\n",
      "606.0 - 600.0 = 6.0\n",
      "買入日期：2021-11-17\n",
      "買入價：610.0\n",
      "<class 'float'>\n",
      "賣出日期：2021-11-23\n",
      "賣出價：612.0\n",
      "612.0 - 610.0 = 2.0\n",
      "買入日期：2021-12-02\n",
      "買入價：615.0\n",
      "<class 'float'>\n",
      "賣出日期：2021-12-06\n",
      "賣出價：600.0\n",
      "600.0 - 615.0 = -15.0\n",
      "買入日期：2021-12-09\n",
      "買入價：608.0\n",
      "<class 'float'>\n",
      "賣出日期：2021-12-10\n",
      "賣出價：605.0\n",
      "605.0 - 608.0 = -3.0\n",
      "買入日期：2021-12-17\n",
      "買入價：607.0\n",
      "<class 'float'>\n",
      "賣出日期：2021-12-20\n",
      "賣出價：598.0\n",
      "598.0 - 607.0 = -9.0\n",
      "買入日期：2021-12-23\n",
      "買入價：606.0\n",
      "<class 'float'>\n",
      "賣出日期：2022-01-06\n",
      "賣出價：644.0\n",
      "644.0 - 606.0 = 38.0\n",
      "買入日期：2022-01-12\n",
      "買入價：660.0\n",
      "<class 'float'>\n",
      "賣出日期：2022-01-19\n",
      "賣出價：654.0\n",
      "654.0 - 660.0 = -6.0\n",
      "買入日期：2022-03-10\n",
      "買入價：587.0\n",
      "<class 'float'>\n",
      "賣出日期：2022-03-15\n",
      "賣出價：558.0\n",
      "558.0 - 587.0 = -29.0\n",
      "買入日期：2022-03-17\n",
      "買入價：582.0\n",
      "<class 'float'>\n",
      "賣出日期：2022-04-06\n",
      "賣出價：578.0\n",
      "578.0 - 582.0 = -4.0\n",
      "買入日期：2022-04-20\n",
      "買入價：570.0\n",
      "<class 'float'>\n",
      "賣出日期：2022-04-21\n",
      "賣出價：565.0\n",
      "565.0 - 570.0 = -5.0\n",
      "買入日期：2022-05-04\n",
      "買入價：534.0\n",
      "<class 'float'>\n",
      "賣出日期：2022-05-09\n",
      "賣出價：520.0\n",
      "520.0 - 534.0 = -14.0\n",
      "買入日期：2022-05-11\n",
      "買入價：521.0\n",
      "<class 'float'>\n",
      "賣出日期：2022-05-12\n",
      "賣出價：505.0\n",
      "505.0 - 521.0 = -16.0\n"
     ]
    },
    {
     "name": "stdout",
     "output_type": "stream",
     "text": [
      "買入日期：2022-05-16\n",
      "買入價：520.0\n",
      "買進次數： 63\n",
      "賣出次數： 62\n",
      "結果 235.0\n",
      "總損益：78.154150\n",
      "總獲利：452.486363\n",
      "總虧損：-374.332213\n",
      "總交易次數：62\n",
      "最大交易獲利：73.646525\n",
      "最大交易虧損：-32.305625\n",
      "勝率：0.440000\n",
      "年化報酬率：8.00%\n",
      "未實現損益：-3.042000\n",
      "['78154.15', '452486.36', '-374332.21', '62', '73646.52', '-32305.62', '44.00%', '8.00%', '-3042.00']\n",
      "     0           1      2           3      4          5       6       7  \\\n",
      "0    1  2019-02-19  229.0  2019-03-04  235.5    4745.68   2.23%   2.23%   \n",
      "1    2  2019-03-15  239.0  2019-03-25  241.5     701.43   0.45%   2.68%   \n",
      "2    3  2019-04-03  246.5  2019-04-19  264.5   16168.24   6.64%   9.33%   \n",
      "3    4  2019-04-24  269.0  2019-04-26  260.0  -10931.32  -3.89%   5.43%   \n",
      "4    5  2019-05-30  231.0  2019-06-17  233.0     236.83   0.28%   5.71%   \n",
      "..  ..         ...    ...         ...    ...        ...     ...     ...   \n",
      "57  58  2022-03-10  587.0  2022-03-15  558.0  -32338.47  -5.47%  39.90%   \n",
      "58  59  2022-03-17  582.0  2022-04-06  578.0   -7316.35  -1.26%  38.63%   \n",
      "59  60  2022-04-20  570.0  2022-04-21  565.0   -8263.25  -1.45%  37.18%   \n",
      "60  61  2022-05-04  534.0  2022-05-09  520.0  -17103.95  -3.18%  34.01%   \n",
      "61  62  2022-05-11  521.0  2022-05-12  505.0  -19046.42  -3.62%  30.39%   \n",
      "\n",
      "          8        9  \n",
      "0   1323.83   706.50  \n",
      "1   1369.43   724.50  \n",
      "2   1456.35   793.50  \n",
      "3   1507.65   780.00  \n",
      "4   1322.40   699.00  \n",
      "..      ...      ...  \n",
      "57  3263.25  1674.00  \n",
      "58  3306.00  1734.00  \n",
      "59  3234.75  1695.00  \n",
      "60  3003.90  1560.00  \n",
      "61  2924.10  1515.00  \n",
      "\n",
      "[62 rows x 10 columns]\n",
      "Complete!\n",
      "The file has been deleted successfully\n"
     ]
    },
    {
     "name": "stderr",
     "output_type": "stream",
     "text": [
      "127.0.0.1 - - [25/May/2022 10:04:22] \"POST / HTTP/1.1\" 200 -\n"
     ]
    },
    {
     "name": "stdout",
     "output_type": "stream",
     "text": [
      "{'id': ['Uabbf74146ad98cf5f23a8bd3179cd8f6', 'U0369730329f4006bcf211fb0dc39fc6c'], 'Uabbf74146ad98cf5f23a8bd3179cd8f6': {'time_record': [datetime.datetime(2022, 5, 24, 15, 51, 5, 139524), datetime.datetime(2022, 5, 24, 15, 51, 6, 268375), datetime.datetime(2022, 5, 24, 15, 51, 6, 602050), datetime.datetime(2022, 5, 24, 15, 51, 6, 696863), datetime.datetime(2022, 5, 24, 15, 51, 7, 41825), datetime.datetime(2022, 5, 24, 15, 51, 8, 871993), datetime.datetime(2022, 5, 24, 15, 51, 19, 345449), datetime.datetime(2022, 5, 24, 15, 51, 19, 604617), datetime.datetime(2022, 5, 24, 15, 51, 20, 208757), datetime.datetime(2022, 5, 24, 15, 51, 20, 317192), datetime.datetime(2022, 5, 24, 15, 51, 20, 427048), datetime.datetime(2022, 5, 24, 15, 51, 22, 244472), datetime.datetime(2022, 5, 24, 15, 52, 9, 156094), datetime.datetime(2022, 5, 24, 15, 52, 9, 565050), datetime.datetime(2022, 5, 24, 15, 52, 9, 668971), datetime.datetime(2022, 5, 24, 15, 52, 9, 796155), datetime.datetime(2022, 5, 24, 15, 52, 10, 194083), datetime.datetime(2022, 5, 24, 15, 53, 22, 366705), datetime.datetime(2022, 5, 24, 15, 53, 23, 30986), datetime.datetime(2022, 5, 24, 15, 53, 23, 161456), datetime.datetime(2022, 5, 24, 16, 11, 23, 429342), datetime.datetime(2022, 5, 24, 16, 11, 56, 594475), datetime.datetime(2022, 5, 24, 16, 12, 3, 966567), datetime.datetime(2022, 5, 24, 16, 12, 42, 335394), datetime.datetime(2022, 5, 24, 21, 28, 55, 86455), datetime.datetime(2022, 5, 24, 21, 29, 3, 356195), datetime.datetime(2022, 5, 24, 21, 29, 16, 631217), datetime.datetime(2022, 5, 24, 21, 29, 22, 176572), datetime.datetime(2022, 5, 24, 21, 29, 29, 783523), datetime.datetime(2022, 5, 24, 21, 29, 45, 633206), datetime.datetime(2022, 5, 24, 21, 30, 0, 197289), datetime.datetime(2022, 5, 24, 21, 30, 21, 807843), datetime.datetime(2022, 5, 25, 9, 57, 46, 885257)], 'user_text_stock': ['2330'], 'user_text_strategy': ['SMA'], 'user_text_email': 'Abc@example.com', 'Mode': ''}, 'U0369730329f4006bcf211fb0dc39fc6c': {'time_record': [datetime.datetime(2022, 5, 24, 15, 55, 38, 838310), datetime.datetime(2022, 5, 24, 15, 55, 43, 73055), datetime.datetime(2022, 5, 24, 15, 55, 46, 657865), datetime.datetime(2022, 5, 24, 15, 55, 48, 918285), datetime.datetime(2022, 5, 24, 15, 55, 51, 815119), datetime.datetime(2022, 5, 24, 15, 55, 55, 53365), datetime.datetime(2022, 5, 24, 15, 56, 11, 356804), datetime.datetime(2022, 5, 24, 15, 56, 17, 174475), datetime.datetime(2022, 5, 24, 15, 56, 26, 594868), datetime.datetime(2022, 5, 24, 15, 56, 35, 194218), datetime.datetime(2022, 5, 25, 9, 58, 39, 119420), datetime.datetime(2022, 5, 25, 10, 2, 22, 777733), datetime.datetime(2022, 5, 25, 10, 2, 32, 300460), datetime.datetime(2022, 5, 25, 10, 2, 40, 784533), datetime.datetime(2022, 5, 25, 10, 2, 46, 125301), datetime.datetime(2022, 5, 25, 10, 2, 57, 900831), datetime.datetime(2022, 5, 25, 10, 3, 7, 731965), datetime.datetime(2022, 5, 25, 10, 3, 23, 600753), datetime.datetime(2022, 5, 25, 10, 3, 48, 382333)], 'user_text_stock': ['2330'], 'user_text_strategy': ['KD'], 'user_text_email': 'Abc@example.com', 'Mode': ''}}\n"
     ]
    }
   ],
   "source": [
    "app = Flask(__name__)\n",
    "\n",
    "# 接收 LINE 的資訊\n",
    "@app.route(\"/\", methods=['GET'])\n",
    "def welcome():\n",
    "    return 'hello'\n",
    "\n",
    "@app.route(\"/\", methods=['POST'])\n",
    "def callback():\n",
    "    signature = request.headers['X-Line-Signature']\n",
    "\n",
    "    body = request.get_data(as_text=True)\n",
    "    app.logger.info(\"Request body: \" + body)\n",
    "    \n",
    "    try:\n",
    "        print(body, signature)\n",
    "        handler.handle(body, signature)\n",
    "    except InvalidSignatureError:\n",
    "        print(\"Invalid signature. Please check your channel access token/channel secret.\")\n",
    "        abort(400)\n",
    "\n",
    "    return ('OK', 200)\n",
    "\n",
    "@handler.add(MessageEvent, message=TextMessage)\n",
    "def handle_message(event):\n",
    "    #根據用戶訊息，回覆相對應的資訊\n",
    "    search_system(event)\n",
    "\n",
    "if __name__ == \"__main__\":\n",
    "    app.run(port=3000)"
   ]
  }
 ],
 "metadata": {
  "kernelspec": {
   "display_name": "Python 3",
   "language": "python",
   "name": "python3"
  },
  "language_info": {
   "codemirror_mode": {
    "name": "ipython",
    "version": 3
   },
   "file_extension": ".py",
   "mimetype": "text/x-python",
   "name": "python",
   "nbconvert_exporter": "python",
   "pygments_lexer": "ipython3",
   "version": "3.8.2"
  }
 },
 "nbformat": 4,
 "nbformat_minor": 5
}
