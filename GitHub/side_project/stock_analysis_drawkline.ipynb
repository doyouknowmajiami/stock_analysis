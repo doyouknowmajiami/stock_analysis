{
 "cells": [
  {
   "cell_type": "code",
   "execution_count": 8,
   "id": "d32a1a41",
   "metadata": {},
   "outputs": [],
   "source": [
    "import StockLib\n",
    "from StockLib.KDStockStrategy import *\n",
    "from StockLib.MACDStockStrategy import *\n",
    "from StockLib.MAStockStrategy import *\n",
    "from StockLib.Stock_lib import *\n",
    "\n",
    "from FinMind.data import DataLoader\n",
    "import pandas as pd\n",
    "\n",
    "#股市分析主程式(依據給予股票名畫出k線圖)\n",
    "def stock_analysis(token, stock_name):\n",
    "    #api key\n",
    "    api = DataLoader()\n",
    "    api.login_by_token(api_token=token)\n",
    "    today = str(date.today())\n",
    "    #之後提供，只回測3年，以及從2019-01-01到近期的選擇\n",
    "    stock = api.taiwan_stock_daily(\n",
    "        stock_id=stock_name,\n",
    "        start_date='2019-01-01',\n",
    "        end_date= today\n",
    "    )\n",
    "    recent_date = str(stock[\"date\"].to_numpy().tolist()[-1])\n",
    "    #股價的資料tolist\n",
    "    values = stock[[\"open\", \"close\", \"min\", \"max\"]].to_numpy().tolist()\n",
    "\n",
    "    #月份的資料tolist\n",
    "    data_m = stock[[\"date\"]].to_numpy()\n",
    "    data_m = data_m.flatten()\n",
    "    month = []\n",
    "    for m in data_m:\n",
    "        month.append(str(m)[:10])\n",
    "\n",
    "    #執行\n",
    "    kline = draw_kline(month, values, stock_name)\n",
    "    return stock, month, kline, recent_date\n",
    "\n",
    "#股市分析主程式(在k線圖上依據交易策略繪製買賣點位,以及損益分析表)\n",
    "def stock_analysis_strategy(strategy, strategy_data, kline, recent_date):\n",
    "    #執行    \n",
    "    #投資策略\n",
    "    strategy()\n",
    "    buy_date, buy_price, sell_date, sell_price = strategy_data() #依據策略建立買賣點位 \n",
    "    profit, loss, ROI = profit_and_loss(buy_price, sell_price) #每次交易虧損、獲利、累積報酬率\n",
    "    buy_sc, sell_sc = draw_scatter(buy_date, buy_price, sell_date, sell_price) #買賣點位的標記\n",
    "    kline.overlap(buy_sc) #買入點位圖疊加\n",
    "    kline.overlap(sell_sc) #賣出點位圖疊加\n",
    "    #執行\n",
    "    table_1 = draw_table_1(stock, profit, loss, recent_date, buy_date, buy_price, sell_date, sell_price, ROI) #表1-損益分析製作\n",
    "    #執行\n",
    "    table_2 = darw_table_2(stock, recent_date, buy_date, buy_price, sell_date, sell_price, ROI)\n",
    "    #表2-交易細節製作\n",
    "    #執行\n",
    "    pics_combine(table_1, kline, table_2) #表1-損益分析+K線+表2-交易細節(垂直排列)，並產出網址"
   ]
  },
  {
   "cell_type": "code",
   "execution_count": null,
   "id": "63a4eb7f",
   "metadata": {},
   "outputs": [],
   "source": []
  }
 ],
 "metadata": {
  "kernelspec": {
   "display_name": "Python 3 (ipykernel)",
   "language": "python",
   "name": "python3"
  },
  "language_info": {
   "codemirror_mode": {
    "name": "ipython",
    "version": 3
   },
   "file_extension": ".py",
   "mimetype": "text/x-python",
   "name": "python",
   "nbconvert_exporter": "python",
   "pygments_lexer": "ipython3",
   "version": "3.9.7"
  }
 },
 "nbformat": 4,
 "nbformat_minor": 5
}
