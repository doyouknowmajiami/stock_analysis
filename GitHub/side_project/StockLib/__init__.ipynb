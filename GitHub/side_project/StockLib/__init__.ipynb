{
 "cells": [
  {
   "cell_type": "code",
   "execution_count": 1,
   "id": "c6d6c6a7",
   "metadata": {},
   "outputs": [
    {
     "ename": "ModuleNotFoundError",
     "evalue": "No module named 'StockLib'",
     "output_type": "error",
     "traceback": [
      "\u001b[1;31m---------------------------------------------------------------------------\u001b[0m",
      "\u001b[1;31mModuleNotFoundError\u001b[0m                       Traceback (most recent call last)",
      "Input \u001b[1;32mIn [1]\u001b[0m, in \u001b[0;36m<cell line: 5>\u001b[1;34m()\u001b[0m\n\u001b[0;32m      1\u001b[0m \u001b[38;5;66;03m#\u001b[39;00m\n\u001b[0;32m      2\u001b[0m \u001b[38;5;66;03m# @file __init__.py\u001b[39;00m\n\u001b[0;32m      3\u001b[0m \u001b[38;5;66;03m#\u001b[39;00m\n\u001b[1;32m----> 5\u001b[0m \u001b[38;5;28;01mfrom\u001b[39;00m \u001b[38;5;21;01mStockLib\u001b[39;00m \u001b[38;5;28;01mimport\u001b[39;00m Stock_lib\n\u001b[0;32m      6\u001b[0m \u001b[38;5;28;01mfrom\u001b[39;00m \u001b[38;5;21;01mStockLib\u001b[39;00m \u001b[38;5;28;01mimport\u001b[39;00m MAStockStrategy\n\u001b[0;32m      7\u001b[0m \u001b[38;5;28;01mfrom\u001b[39;00m \u001b[38;5;21;01mStockLib\u001b[39;00m\u001b[38;5;21;01m.\u001b[39;00m\u001b[38;5;21;01mStock_lib\u001b[39;00m \u001b[38;5;28;01mimport\u001b[39;00m draw_kline\n",
      "\u001b[1;31mModuleNotFoundError\u001b[0m: No module named 'StockLib'"
     ]
    }
   ],
   "source": [
    "#\n",
    "# @file __init__.py\n",
    "#\n",
    "\n",
    "from StockLib import Stock_lib\n",
    "from StockLib import MAStockStrategy\n",
    "from StockLib.Stock_lib import draw_kline\n",
    "from StockLib.Stock_lib import profit_and_loss\n",
    "from StockLib.Stock_lib import draw_scatter\n",
    "from StockLib.Stock_lib import draw_table_1\n",
    "from StockLib.Stock_lib import darw_table_2\n",
    "from StockLib.Stock_lib import pics_combine\n",
    "from StockLib.MAStockStrategy import sma_strategy\n",
    "from StockLib.MAStockStrategy import sma_strategy_data\n",
    "from StockLib.MAStockStrategy import ema_strategy\n",
    "from StockLib.MAStockStrategy import ema_strategy_data\n",
    "import pandas as pd\n",
    "import numpy as np\n",
    "import pyecharts.options as opts\n",
    "from pyecharts.charts import Kline, Scatter, Grid, Page\n",
    "from pyecharts.components import Table\n",
    "from datetime import date, datetime\n",
    "import talib #投資策略\n",
    "import math\n",
    "\n",
    "# draw_kline = StockLib.Stock_lib.draw_kline\n",
    "# profit_and_loss = StockLib.Stock_lib.profit_and_loss\n",
    "# draw_scatter = StockLib.Stock_lib.draw_scatter\n",
    "# draw_table_1 = StockLib.Stock_lib.draw_table_1\n",
    "# darw_table_2 = StockLib.Stock_lib.darw_table_2\n",
    "# pics_combine = StockLib.Stock_lib.pics_combine\n",
    "# sma_strategy = StockLib.MAStockStrategy.sma_strategy\n",
    "# sma_strategy_data = StockLib.MAStockStrategy.sma_strategy_data\n",
    "# ema_strategy = StockLib.MAStockStrategy.ema_strategy\n",
    "# ema_strategy_data = StockLib.MAStockStrategy.ema_strategy_data\n",
    "# talib = talib\n",
    "# Kline = pyecharts.charts.Kline"
   ]
  },
  {
   "cell_type": "code",
   "execution_count": null,
   "id": "50305240",
   "metadata": {},
   "outputs": [],
   "source": []
  }
 ],
 "metadata": {
  "kernelspec": {
   "display_name": "Python 3 (ipykernel)",
   "language": "python",
   "name": "python3"
  },
  "language_info": {
   "codemirror_mode": {
    "name": "ipython",
    "version": 3
   },
   "file_extension": ".py",
   "mimetype": "text/x-python",
   "name": "python",
   "nbconvert_exporter": "python",
   "pygments_lexer": "ipython3",
   "version": "3.9.7"
  }
 },
 "nbformat": 4,
 "nbformat_minor": 5
}
