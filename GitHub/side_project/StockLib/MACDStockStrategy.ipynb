{
 "cells": [
  {
   "cell_type": "code",
   "execution_count": 13,
   "id": "7887f38d",
   "metadata": {},
   "outputs": [],
   "source": [
    "import pandas as pd\n",
    "import numpy as np\n",
    "import pyecharts.options as opts\n",
    "from pyecharts.charts import Kline, Scatter, Grid, Page\n",
    "from pyecharts.components import Table\n",
    "from datetime import date, datetime\n",
    "import talib #投資策略\n",
    "import math\n",
    "\n",
    "#求出DIF、DEM、以及MACD值\n",
    "def macd_strategy(stock):\n",
    "    stock['DIF'],stock['MACD'],stock['DIF-MACD'] = talib.MACD(stock['close'].to_numpy(),\n",
    "                                                         fastperiod=12,\n",
    "                                                         slowperiod=26,\n",
    "                                                         signalperiod=9)\n",
    "#定義快線與慢線之間的交互關係與交易點位\n",
    "def macd_strategy_data(month,stock):\n",
    "    #判斷當下是已經持有還是該賣出，1＝持有，0＝賣出\n",
    "    judge = 0\n",
    "    #計算賺賠多少\n",
    "    result = 0\n",
    "    #買賣日期與其收盤價\n",
    "    buy_date = []\n",
    "    buy_price = []\n",
    "    sell_date = []\n",
    "    sell_price = []\n",
    "\n",
    "    for d in month:\n",
    "        #跳過前33(26+9)天，MACD沒數值的時候\n",
    "        if stock[(stock.date==d)][\"DIF\"].empty or stock[(stock.date==d)][\"MACD\"].empty or stock[(stock.date==d)][\"DIF-MACD\"].empty:\n",
    "            print(\"DIF or MACD or D-M 是NaN\")\n",
    "            continue\n",
    "\n",
    "        D_M = stock[(stock.date==d)][\"DIF-MACD\"].values.tolist()[0]\n",
    "        close_price = stock[(stock.date==d)][\"close\"].values.tolist()[0] #當天的收盤價\n",
    "\n",
    "        #定義快線>慢線 D-M>0 買進訊號\n",
    "        if D_M>0 and judge == 0:\n",
    "            judge += 1\n",
    "            buy_point = round(close_price,2) #買進點位\n",
    "            buy_date.append(d)\n",
    "            buy_price.append(buy_point)\n",
    "            print(\"買入日期：\" + d)\n",
    "            print(\"買入價：%s\" % (close_price))\n",
    "\n",
    "        #定義慢線>快線 D-M<0 賣出訊號\n",
    "        elif D_M<0 and judge == 1:\n",
    "            judge -= 1\n",
    "            sell_point = round(close_price,2) #買進點位\n",
    "            sell_date.append(d)\n",
    "            sell_price.append(sell_point)\n",
    "            result = result + round((sell_point - buy_point),2)\n",
    "            print(type(result))\n",
    "            print(\"賣出日期：\" + d)\n",
    "            print(\"賣出價：%s\" % (close_price))\n",
    "            print(\"%s - %s = %s\" % (sell_point, buy_point, round((sell_point - buy_point),2)))\n",
    "    print(\"買進次數： %s\" % (len(buy_price)))\n",
    "    print(\"賣出次數： %s\" % (len(sell_price)))\n",
    "    print(\"結果 %s\" % (round(result,2)))\n",
    "    return(buy_date, buy_price, sell_date, sell_price)"
   ]
  },
  {
   "cell_type": "code",
   "execution_count": 33,
   "id": "f5198f90",
   "metadata": {},
   "outputs": [
    {
     "name": "stdout",
     "output_type": "stream",
     "text": [
      "請從交易策略庫中選擇想使用的交易策略,例如:(EMA,SMA,MACD)EMA\n",
      "EMA\n"
     ]
    }
   ],
   "source": [
    "s = \"\"\n",
    "strategy_db = [\"EMA\",\"SMA\",\"MACD\"]\n",
    "for i in range(len(strategy_db)):\n",
    "    if i != len(strategy_db)-1 :\n",
    "        s = s+strategy_db[i]+\",\"\n",
    "    else:\n",
    "        s = s+strategy_db[i]\n",
    "while True:\n",
    "    strategy = input(\"請從交易策略庫中選擇想使用的交易策略,例如:(\"+s+\")\")\n",
    "    if strategy not in strategy_db:\n",
    "        print(\"請再重新輸入一次,可使用的交易策略有:(\"+s+\")\")\n",
    "        continue\n",
    "    else:\n",
    "        break\n",
    "print(strategy)"
   ]
  },
  {
   "cell_type": "code",
   "execution_count": null,
   "id": "eef6cb19",
   "metadata": {},
   "outputs": [],
   "source": []
  }
 ],
 "metadata": {
  "kernelspec": {
   "display_name": "Python 3 (ipykernel)",
   "language": "python",
   "name": "python3"
  },
  "language_info": {
   "codemirror_mode": {
    "name": "ipython",
    "version": 3
   },
   "file_extension": ".py",
   "mimetype": "text/x-python",
   "name": "python",
   "nbconvert_exporter": "python",
   "pygments_lexer": "ipython3",
   "version": "3.9.7"
  }
 },
 "nbformat": 4,
 "nbformat_minor": 5
}
